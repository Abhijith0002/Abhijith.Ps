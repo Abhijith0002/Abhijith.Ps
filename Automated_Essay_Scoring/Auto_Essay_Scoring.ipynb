{
  "cells": [
    {
      "cell_type": "code",
      "execution_count": 6,
      "metadata": {
        "colab": {
          "base_uri": "https://localhost:8080/"
        },
        "id": "fZIXK61F51BV",
        "outputId": "50588b13-8bd0-4035-ea21-2aa68b1082ac"
      },
      "outputs": [],
      "source": [
        "# !pip install pyspellchecker\n",
        "# !pip install spacy"
      ]
    },
    {
      "cell_type": "code",
      "execution_count": 7,
      "metadata": {
        "colab": {
          "base_uri": "https://localhost:8080/"
        },
        "id": "d2Lh5gGrv_m5",
        "outputId": "c3051461-bc3a-46db-9a3d-14bac5107621"
      },
      "outputs": [
        {
          "name": "stderr",
          "output_type": "stream",
          "text": [
            "[nltk_data] Downloading package stopwords to\n",
            "[nltk_data]     C:\\Users\\USER\\AppData\\Roaming\\nltk_data...\n",
            "[nltk_data]   Package stopwords is already up-to-date!\n"
          ]
        }
      ],
      "source": [
        "# Import necessary modules\n",
        "import numpy as np # linear algebra\n",
        "import pandas as pd # data processing, CSV file I/O (e.g. pd.read_csv)\n",
        "\n",
        "import matplotlib.pyplot as plt\n",
        "\n",
        "from spellchecker import SpellChecker # pyspellchecker library to correct spelling errors.\n",
        "import string\n",
        "import spacy\n",
        "\n",
        "import nltk\n",
        "nltk.download('stopwords')\n",
        "from nltk.corpus import stopwords\n",
        "stopwords = stopwords.words('english')\n",
        "nlp = spacy.load('en_core_web_sm')\n",
        "\n",
        "import re\n",
        "from gensim.models.word2vec import Word2Vec\n",
        "\n",
        "from sklearn.model_selection import train_test_split\n",
        "from sklearn.preprocessing import MinMaxScaler, StandardScaler\n",
        "\n",
        "from keras.models import Sequential\n",
        "from keras.layers import Dense, Dropout\n",
        "from keras.optimizers import Adam\n",
        "\n",
        "from sklearn.metrics import cohen_kappa_score"
      ]
    },
    {
      "cell_type": "code",
      "execution_count": 8,
      "metadata": {
        "id": "NmM9AyyV9He3"
      },
      "outputs": [],
      "source": [
        "\n",
        "def correct_language(df):\n",
        "    \"\"\"\n",
        "    Use pyspellchecker library to correct spelling errors. Also count the applied corrections and store the matches.\n",
        "    \"\"\"\n",
        "    # Initialize SpellChecker\n",
        "    spell = SpellChecker()\n",
        "\n",
        "    # Apply spell-check to each essay in the DataFrame\n",
        "    df['matches'] = df['essay'].apply(lambda txt: spell.unknown(spell.split_words(txt)))\n",
        "\n",
        "    # Apply corrections and store the corrected text in a new column\n",
        "    def apply_correction(txt):\n",
        "        corrected_text = ' '.join(spell.correction(word) if word in spell else word for word in spell.split_words(txt))\n",
        "        return corrected_text\n",
        "\n",
        "    df['corrected'] = df['essay'].apply(apply_correction)\n",
        "\n",
        "    # Count the number of corrections for each essay\n",
        "    df['corrections'] = df['matches'].apply(len)\n",
        "\n",
        "    return df\n"
      ]
    },
    {
      "cell_type": "code",
      "execution_count": 9,
      "metadata": {
        "colab": {
          "base_uri": "https://localhost:8080/",
          "height": 672
        },
        "id": "ngnItjQIqM8V",
        "outputId": "99fde8c4-269b-4edb-e0d4-11cddc6befb0"
      },
      "outputs": [
        {
          "data": {
            "text/html": [
              "<div>\n",
              "<style scoped>\n",
              "    .dataframe tbody tr th:only-of-type {\n",
              "        vertical-align: middle;\n",
              "    }\n",
              "\n",
              "    .dataframe tbody tr th {\n",
              "        vertical-align: top;\n",
              "    }\n",
              "\n",
              "    .dataframe thead th {\n",
              "        text-align: right;\n",
              "    }\n",
              "</style>\n",
              "<table border=\"1\" class=\"dataframe\">\n",
              "  <thead>\n",
              "    <tr style=\"text-align: right;\">\n",
              "      <th></th>\n",
              "      <th>essay_id</th>\n",
              "      <th>topic</th>\n",
              "      <th>essay</th>\n",
              "      <th>rater1_domain1</th>\n",
              "      <th>rater2_domain1</th>\n",
              "      <th>rater3_domain1</th>\n",
              "      <th>target_score</th>\n",
              "      <th>rater1_domain2</th>\n",
              "      <th>rater2_domain2</th>\n",
              "      <th>topic2_target</th>\n",
              "      <th>...</th>\n",
              "      <th>rater2_trait6</th>\n",
              "      <th>rater3_trait1</th>\n",
              "      <th>rater3_trait2</th>\n",
              "      <th>rater3_trait3</th>\n",
              "      <th>rater3_trait4</th>\n",
              "      <th>rater3_trait5</th>\n",
              "      <th>rater3_trait6</th>\n",
              "      <th>matches</th>\n",
              "      <th>corrected</th>\n",
              "      <th>corrections</th>\n",
              "    </tr>\n",
              "  </thead>\n",
              "  <tbody>\n",
              "    <tr>\n",
              "      <th>0</th>\n",
              "      <td>1</td>\n",
              "      <td>1</td>\n",
              "      <td>Dear local newspaper, I think effects computer...</td>\n",
              "      <td>4</td>\n",
              "      <td>4</td>\n",
              "      <td>NaN</td>\n",
              "      <td>8</td>\n",
              "      <td>NaN</td>\n",
              "      <td>NaN</td>\n",
              "      <td>NaN</td>\n",
              "      <td>...</td>\n",
              "      <td>NaN</td>\n",
              "      <td>NaN</td>\n",
              "      <td>NaN</td>\n",
              "      <td>NaN</td>\n",
              "      <td>NaN</td>\n",
              "      <td>NaN</td>\n",
              "      <td>NaN</td>\n",
              "      <td>{caps1, troble, date1's, myspace, organization...</td>\n",
              "      <td>Dear local newspaper I think effects computers...</td>\n",
              "      <td>15</td>\n",
              "    </tr>\n",
              "    <tr>\n",
              "      <th>1</th>\n",
              "      <td>2</td>\n",
              "      <td>1</td>\n",
              "      <td>Dear @CAPS1 @CAPS2, I believe that using compu...</td>\n",
              "      <td>5</td>\n",
              "      <td>4</td>\n",
              "      <td>NaN</td>\n",
              "      <td>9</td>\n",
              "      <td>NaN</td>\n",
              "      <td>NaN</td>\n",
              "      <td>NaN</td>\n",
              "      <td>...</td>\n",
              "      <td>NaN</td>\n",
              "      <td>NaN</td>\n",
              "      <td>NaN</td>\n",
              "      <td>NaN</td>\n",
              "      <td>NaN</td>\n",
              "      <td>NaN</td>\n",
              "      <td>NaN</td>\n",
              "      <td>{descion, garrenteed, facebook, adays, locatio...</td>\n",
              "      <td>Dear CAPS1 CAPS2 I believe that using computer...</td>\n",
              "      <td>21</td>\n",
              "    </tr>\n",
              "    <tr>\n",
              "      <th>2</th>\n",
              "      <td>3</td>\n",
              "      <td>1</td>\n",
              "      <td>Dear, @CAPS1 @CAPS2 @CAPS3 More and more peopl...</td>\n",
              "      <td>4</td>\n",
              "      <td>3</td>\n",
              "      <td>NaN</td>\n",
              "      <td>7</td>\n",
              "      <td>NaN</td>\n",
              "      <td>NaN</td>\n",
              "      <td>NaN</td>\n",
              "      <td>...</td>\n",
              "      <td>NaN</td>\n",
              "      <td>NaN</td>\n",
              "      <td>NaN</td>\n",
              "      <td>NaN</td>\n",
              "      <td>NaN</td>\n",
              "      <td>NaN</td>\n",
              "      <td>NaN</td>\n",
              "      <td>{caps1, caps3, organization1, caps2, caps5, ca...</td>\n",
              "      <td>Dear CAPS1 CAPS2 CAPS3 More and more people us...</td>\n",
              "      <td>8</td>\n",
              "    </tr>\n",
              "    <tr>\n",
              "      <th>3</th>\n",
              "      <td>4</td>\n",
              "      <td>1</td>\n",
              "      <td>Dear Local Newspaper, @CAPS1 I have found that...</td>\n",
              "      <td>5</td>\n",
              "      <td>5</td>\n",
              "      <td>NaN</td>\n",
              "      <td>10</td>\n",
              "      <td>NaN</td>\n",
              "      <td>NaN</td>\n",
              "      <td>NaN</td>\n",
              "      <td>...</td>\n",
              "      <td>NaN</td>\n",
              "      <td>NaN</td>\n",
              "      <td>NaN</td>\n",
              "      <td>NaN</td>\n",
              "      <td>NaN</td>\n",
              "      <td>NaN</td>\n",
              "      <td>NaN</td>\n",
              "      <td>{person3, percent4, organization1, resturant, ...</td>\n",
              "      <td>Dear Local Newspaper CAPS1 I have found that m...</td>\n",
              "      <td>46</td>\n",
              "    </tr>\n",
              "    <tr>\n",
              "      <th>4</th>\n",
              "      <td>5</td>\n",
              "      <td>1</td>\n",
              "      <td>Dear @LOCATION1, I know having computers has a...</td>\n",
              "      <td>4</td>\n",
              "      <td>4</td>\n",
              "      <td>NaN</td>\n",
              "      <td>8</td>\n",
              "      <td>NaN</td>\n",
              "      <td>NaN</td>\n",
              "      <td>NaN</td>\n",
              "      <td>...</td>\n",
              "      <td>NaN</td>\n",
              "      <td>NaN</td>\n",
              "      <td>NaN</td>\n",
              "      <td>NaN</td>\n",
              "      <td>NaN</td>\n",
              "      <td>NaN</td>\n",
              "      <td>NaN</td>\n",
              "      <td>{caps1, subssiquently, arn't, location2, compu...</td>\n",
              "      <td>Dear LOCATION1 I know having computers has a p...</td>\n",
              "      <td>13</td>\n",
              "    </tr>\n",
              "  </tbody>\n",
              "</table>\n",
              "<p>5 rows × 31 columns</p>\n",
              "</div>"
            ],
            "text/plain": [
              "   essay_id  topic                                              essay  \\\n",
              "0         1      1  Dear local newspaper, I think effects computer...   \n",
              "1         2      1  Dear @CAPS1 @CAPS2, I believe that using compu...   \n",
              "2         3      1  Dear, @CAPS1 @CAPS2 @CAPS3 More and more peopl...   \n",
              "3         4      1  Dear Local Newspaper, @CAPS1 I have found that...   \n",
              "4         5      1  Dear @LOCATION1, I know having computers has a...   \n",
              "\n",
              "   rater1_domain1  rater2_domain1  rater3_domain1  target_score  \\\n",
              "0               4               4             NaN             8   \n",
              "1               5               4             NaN             9   \n",
              "2               4               3             NaN             7   \n",
              "3               5               5             NaN            10   \n",
              "4               4               4             NaN             8   \n",
              "\n",
              "   rater1_domain2  rater2_domain2  topic2_target  ...  rater2_trait6  \\\n",
              "0             NaN             NaN            NaN  ...            NaN   \n",
              "1             NaN             NaN            NaN  ...            NaN   \n",
              "2             NaN             NaN            NaN  ...            NaN   \n",
              "3             NaN             NaN            NaN  ...            NaN   \n",
              "4             NaN             NaN            NaN  ...            NaN   \n",
              "\n",
              "   rater3_trait1  rater3_trait2  rater3_trait3  rater3_trait4  rater3_trait5  \\\n",
              "0            NaN            NaN            NaN            NaN            NaN   \n",
              "1            NaN            NaN            NaN            NaN            NaN   \n",
              "2            NaN            NaN            NaN            NaN            NaN   \n",
              "3            NaN            NaN            NaN            NaN            NaN   \n",
              "4            NaN            NaN            NaN            NaN            NaN   \n",
              "\n",
              "   rater3_trait6                                            matches  \\\n",
              "0            NaN  {caps1, troble, date1's, myspace, organization...   \n",
              "1            NaN  {descion, garrenteed, facebook, adays, locatio...   \n",
              "2            NaN  {caps1, caps3, organization1, caps2, caps5, ca...   \n",
              "3            NaN  {person3, percent4, organization1, resturant, ...   \n",
              "4            NaN  {caps1, subssiquently, arn't, location2, compu...   \n",
              "\n",
              "                                           corrected  corrections  \n",
              "0  Dear local newspaper I think effects computers...           15  \n",
              "1  Dear CAPS1 CAPS2 I believe that using computer...           21  \n",
              "2  Dear CAPS1 CAPS2 CAPS3 More and more people us...            8  \n",
              "3  Dear Local Newspaper CAPS1 I have found that m...           46  \n",
              "4  Dear LOCATION1 I know having computers has a p...           13  \n",
              "\n",
              "[5 rows x 31 columns]"
            ]
          },
          "execution_count": 9,
          "metadata": {},
          "output_type": "execute_result"
        }
      ],
      "source": [
        "# read essays from training_set\n",
        "training_set  = pd.read_csv('./Data/training_set_rel3.tsv', sep='\\t', encoding = \"ISO-8859-1\")\\\n",
        "            .rename(columns={'essay_set': 'topic', 'domain1_score': 'target_score', 'domain2_score': 'topic2_target'})\n",
        "\n",
        "# apply spelling and grammar corrections\n",
        "training_set = correct_language(training_set)\n",
        "\n",
        "training_set.head()"
      ]
    },
    {
      "cell_type": "code",
      "execution_count": 10,
      "metadata": {
        "id": "rlfNt-iY78Us"
      },
      "outputs": [],
      "source": [
        "# read essays from validation and test sets\n",
        "\n",
        "valid_set  = pd.read_csv('./Data/valid_set.tsv', sep='\\t', encoding = \"ISO-8859-1\")\\\n",
        "            .rename(columns={'essay_set': 'topic'})\n",
        "test_set  = pd.read_csv('./Data/test_set.tsv', sep='\\t', encoding = \"ISO-8859-1\")\\\n",
        "            .rename(columns={'essay_set': 'topic'})\n",
        "\n",
        "combo_set = pd.concat([valid_set, test_set], sort=False)\n",
        "\n",
        "# apply spelling and grammar corrections\n",
        "combo_set = correct_language(combo_set)"
      ]
    },
    {
      "cell_type": "code",
      "execution_count": 11,
      "metadata": {
        "colab": {
          "base_uri": "https://localhost:8080/"
        },
        "id": "AvZg2usnC3MT",
        "outputId": "4bb65928-8d22-464c-ca11-208cef246add"
      },
      "outputs": [
        {
          "data": {
            "text/plain": [
              "8472"
            ]
          },
          "execution_count": 11,
          "metadata": {},
          "output_type": "execute_result"
        }
      ],
      "source": [
        "len(combo_set)"
      ]
    },
    {
      "cell_type": "code",
      "execution_count": 12,
      "metadata": {
        "id": "DkFHxqtS-oX7"
      },
      "outputs": [],
      "source": [
        "combo_set = pd.concat([combo_set, training_set], sort=False)\n",
        "combo_set.to_pickle('./SavedModels/combo_set.pkl')"
      ]
    },
    {
      "cell_type": "markdown",
      "metadata": {
        "id": "8kWYC_WIDFzy"
      },
      "source": [
        "# Generate word embeddings with Word2Vec"
      ]
    },
    {
      "cell_type": "code",
      "execution_count": 13,
      "metadata": {
        "id": "Zbb8I2l6_Csn"
      },
      "outputs": [],
      "source": [
        "# Clean training_set essays before feeding them to the Word2Vec model.\n",
        "punctuations = string.punctuation\n",
        "\n",
        "# Define function to cleanup text by removing personal pronouns, stopwords, and puncuation\n",
        "def cleanup_essays(essays, logging=False):\n",
        "    texts = []\n",
        "    counter = 1\n",
        "    for essay in essays.corrected:\n",
        "        if counter % 2000 == 0 and logging:\n",
        "            print(\"Processed %d out of %d documents.\" % (counter, len(essays)))\n",
        "        counter += 1\n",
        "        essay = nlp(essay, disable=['parser', 'ner'])\n",
        "        tokens = [tok.lemma_.lower().strip() for tok in essay if tok.lemma_ != '-PRON-']\n",
        "        tokens = [tok for tok in tokens if tok not in stopwords and tok not in punctuations]\n",
        "        tokens = ' '.join(tokens)\n",
        "        texts.append(tokens)\n",
        "    return pd.Series(texts)"
      ]
    },
    {
      "cell_type": "code",
      "execution_count": 14,
      "metadata": {
        "colab": {
          "base_uri": "https://localhost:8080/"
        },
        "id": "LlTPHMIMAWyR",
        "outputId": "7598eff3-819f-411f-cb71-20d09987c2a3"
      },
      "outputs": [
        {
          "name": "stdout",
          "output_type": "stream",
          "text": [
            "Original training data shape:  (12976,)\n",
            "Processed 2000 out of 12976 documents.\n",
            "Processed 4000 out of 12976 documents.\n",
            "Processed 6000 out of 12976 documents.\n",
            "Processed 8000 out of 12976 documents.\n",
            "Processed 10000 out of 12976 documents.\n",
            "Processed 12000 out of 12976 documents.\n",
            "Cleaned up training data shape:  (12976,)\n"
          ]
        }
      ],
      "source": [
        "# Cleanup text and make sure it retains original shape\n",
        "print('Original training data shape: ', training_set['corrected'].shape)\n",
        "train_cleaned = cleanup_essays(training_set, logging=True)\n",
        "print('Cleaned up training data shape: ', train_cleaned.shape)"
      ]
    },
    {
      "cell_type": "code",
      "execution_count": 15,
      "metadata": {
        "id": "FLt5FwdFDTaX"
      },
      "outputs": [],
      "source": [
        "# Define function to preprocess text for a word2vec model\n",
        "def cleanup_essay_word2vec(essays, logging=False):\n",
        "    sentences = []\n",
        "    counter = 1\n",
        "    for essay in essays:\n",
        "        if counter % 2000 == 0 and logging:\n",
        "            print(\"Processed %d out of %d documents\" % (counter, len(essays)))\n",
        "        # Disable tagger so that lemma_ of personal pronouns (I, me, etc) don't getted marked as \"-PRON-\"\n",
        "        essay = nlp(essay, disable=['tagger'])\n",
        "        # Grab lemmatized form of words and make lowercase\n",
        "        essay = \" \".join([tok.lemma_.lower() for tok in essay])\n",
        "        # Split into sentences based on punctuation\n",
        "        essay = re.split(\"[\\.?!;] \", essay)\n",
        "        # Remove commas, periods, and other punctuation (mostly commas)\n",
        "        essay = [re.sub(\"[\\.,;:!?]\", \"\", sent) for sent in essay]\n",
        "        # Split into words\n",
        "        essay = [sent.split() for sent in essay]\n",
        "        sentences += essay\n",
        "        counter += 1\n",
        "    return sentences"
      ]
    },
    {
      "cell_type": "code",
      "execution_count": 16,
      "metadata": {
        "colab": {
          "base_uri": "https://localhost:8080/"
        },
        "id": "eeVSJuqLEOF8",
        "outputId": "08c11772-c708-48b0-feb3-a14d9de2d5ba"
      },
      "outputs": [
        {
          "name": "stderr",
          "output_type": "stream",
          "text": [
            "c:\\Users\\USER\\AppData\\Local\\Programs\\Python\\Python39\\lib\\site-packages\\spacy\\pipeline\\lemmatizer.py:211: UserWarning: [W108] The rule-based lemmatizer did not find POS annotation for one or more tokens. Check that your pipeline includes components that assign token.pos, typically 'tagger'+'attribute_ruler' or 'morphologizer'.\n",
            "  warnings.warn(Warnings.W108)\n"
          ]
        },
        {
          "name": "stdout",
          "output_type": "stream",
          "text": [
            "Processed 2000 out of 21448 documents\n",
            "Processed 4000 out of 21448 documents\n",
            "Processed 6000 out of 21448 documents\n",
            "Processed 8000 out of 21448 documents\n",
            "Processed 10000 out of 21448 documents\n",
            "Processed 12000 out of 21448 documents\n",
            "Processed 14000 out of 21448 documents\n",
            "Processed 16000 out of 21448 documents\n",
            "Processed 18000 out of 21448 documents\n",
            "Processed 20000 out of 21448 documents\n",
            "Cleaned up training data size (i.e. number of sentences):  21448\n"
          ]
        }
      ],
      "source": [
        "cleaned_word2vec = cleanup_essay_word2vec(combo_set['corrected'], logging=True)\n",
        "print('Cleaned up training data size (i.e. number of sentences): ', len(cleaned_word2vec))"
      ]
    },
    {
      "cell_type": "code",
      "execution_count": 17,
      "metadata": {
        "colab": {
          "base_uri": "https://localhost:8080/"
        },
        "id": "Wfky_-E-Ef9a",
        "outputId": "e72c7083-4820-452d-ad99-69c583914c7a"
      },
      "outputs": [
        {
          "name": "stdout",
          "output_type": "stream",
          "text": [
            "Training Word2Vec model...\n",
            "Word2Vec model created.\n",
            "17100 unique words represented by 300 dimensional vectors\n",
            "Word2Vec model saved.\n"
          ]
        }
      ],
      "source": [
        "text_dim = 300\n",
        "print(\"Training Word2Vec model...\")\n",
        "wordvec_model = Word2Vec(cleaned_word2vec, vector_size=text_dim, window=5, min_count=3, workers=4, sg=1)\n",
        "print(\"Word2Vec model created.\")\n",
        "print(\"%d unique words represented by %d dimensional vectors\" % (len(wordvec_model.wv.key_to_index), text_dim))\n",
        "wordvec_model.save('./SavedModels/wordvec_model')\n",
        "print(\"Word2Vec model saved.\")"
      ]
    },
    {
      "cell_type": "code",
      "execution_count": 18,
      "metadata": {
        "id": "gJMTFQKKJWmv"
      },
      "outputs": [],
      "source": [
        "# Define function to create averaged word vectors given a cleaned text.\n",
        "def create_average_vec(essay):\n",
        "    average = np.zeros((text_dim,), dtype='float32')\n",
        "    num_words = 0.\n",
        "    for word in essay.split():\n",
        "        if word in wordvec_model.wv.key_to_index:\n",
        "            average = np.add(average, wordvec_model.wv[word])\n",
        "            num_words += 1.\n",
        "    if num_words != 0.:\n",
        "        average = np.divide(average, num_words)\n",
        "    return average"
      ]
    },
    {
      "cell_type": "code",
      "execution_count": 19,
      "metadata": {
        "colab": {
          "base_uri": "https://localhost:8080/"
        },
        "id": "NU-KPkOsL7fi",
        "outputId": "45a4880b-1ca3-4d2e-fea3-78f410e4d81f"
      },
      "outputs": [
        {
          "name": "stdout",
          "output_type": "stream",
          "text": [
            "Word vectors for all essays in the training data set are of shape: (12976, 300)\n"
          ]
        }
      ],
      "source": [
        "# Create word vectors\n",
        "cleaned_vec = np.zeros((training_set.shape[0], text_dim), dtype=\"float32\")\n",
        "for i in range(len(train_cleaned)):\n",
        "    essay = train_cleaned[i]\n",
        "    word_vectors = [wordvec_model.wv[word] for word in essay.split() if word in wordvec_model.wv.key_to_index]\n",
        "\n",
        "    if word_vectors:\n",
        "        cleaned_vec[i] = np.mean(word_vectors, axis=0)\n",
        "\n",
        "print(\"Word vectors for all essays in the training data set are of shape:\", cleaned_vec.shape)\n"
      ]
    },
    {
      "cell_type": "markdown",
      "metadata": {
        "id": "hE0jb0fRM9G1"
      },
      "source": [
        "# Neural Network Models"
      ]
    },
    {
      "cell_type": "code",
      "execution_count": 20,
      "metadata": {
        "colab": {
          "base_uri": "https://localhost:8080/"
        },
        "id": "yAXP2l5nLn1S",
        "outputId": "c3312074-4afd-4059-91e9-97e79c42a882"
      },
      "outputs": [
        {
          "data": {
            "text/plain": [
              "(12976, 31)"
            ]
          },
          "execution_count": 20,
          "metadata": {},
          "output_type": "execute_result"
        }
      ],
      "source": [
        "# Read generated features from file:\n",
        "additional_features = pd.read_pickle('./SavedModels/training_features.pkl')\n",
        "\n",
        "# Use select features from Gini feature importances\n",
        "feature_list = [\n",
        "                'word_count',\n",
        "                'corrections',\n",
        "                'similarity',\n",
        "                'token_count',\n",
        "                'unique_token_count',\n",
        "                'nostop_count',\n",
        "                'sent_count',\n",
        "                'ner_count',\n",
        "                'comma',\n",
        "                'question',\n",
        "                'exclamation',\n",
        "                'quotation',\n",
        "                'organization',\n",
        "                'caps',\n",
        "                'person',\n",
        "                'location',\n",
        "                'money',\n",
        "                'time',\n",
        "                'date',\n",
        "                'percent',\n",
        "                'noun',\n",
        "                'adj',\n",
        "                'pron',\n",
        "                'verb',\n",
        "                'cconj',\n",
        "                'adv',\n",
        "                'det',\n",
        "                'propn',\n",
        "                'num',\n",
        "                'part',\n",
        "                'intj'\n",
        "                ]\n",
        "\n",
        "additional_features = additional_features[feature_list]\n",
        "\n",
        "stdscaler = StandardScaler()\n",
        "additional_features = stdscaler.fit_transform(additional_features)\n",
        "additional_features.shape"
      ]
    },
    {
      "cell_type": "code",
      "execution_count": 21,
      "metadata": {
        "colab": {
          "base_uri": "https://localhost:8080/"
        },
        "id": "6KabhwnoRHrj",
        "outputId": "071998b9-87ec-47d3-ed19-6c47691318c5"
      },
      "outputs": [
        {
          "data": {
            "text/plain": [
              "(12976, 333)"
            ]
          },
          "execution_count": 21,
          "metadata": {},
          "output_type": "execute_result"
        }
      ],
      "source": [
        "# Combine topic number, target score, additional features and cleaned word vectors\n",
        "all_data = pd.concat([training_set[['topic','target_score']], pd.DataFrame(additional_features), pd.DataFrame(cleaned_vec)], axis=1)\n",
        "all_data.shape"
      ]
    },
    {
      "cell_type": "code",
      "execution_count": 22,
      "metadata": {
        "id": "Oo0tNPA-ZA82"
      },
      "outputs": [],
      "source": [
        "# DataFrame used to pass original values through train_test_split\n",
        "scores = all_data[['topic', 'target_score']].reset_index()\n",
        "\n",
        "# Rescale target_score (essay grades) in range 0 - 60:\n",
        "scaler = MinMaxScaler((0,10))"
      ]
    },
    {
      "cell_type": "code",
      "execution_count": 23,
      "metadata": {
        "id": "Vx5Acvqtb0JZ"
      },
      "outputs": [],
      "source": [
        "# Rescale and assign target variable y\n",
        "scaled = []\n",
        "for topic in range(1,9):\n",
        "    topic_scores = scores[scores['topic'] == topic]['target_score'].to_frame()\n",
        "    s = (scaler.fit_transform(topic_scores).reshape(-1))\n",
        "    scaled = np.append(scaled, s)\n",
        "\n",
        "scores['scaled'] = scaled\n",
        "\n",
        "\"\"\" for regression\"\"\"\n",
        "y = scores['scaled'].to_frame()\n",
        "\n",
        "# Features\n",
        "X = all_data.drop(['topic', 'target_score'], axis=1)"
      ]
    },
    {
      "cell_type": "code",
      "execution_count": 24,
      "metadata": {
        "colab": {
          "base_uri": "https://localhost:8080/",
          "height": 472
        },
        "id": "U_0CI7RTcGVG",
        "outputId": "ff8fd4d3-43d4-4ce4-e132-1cb20a69f291"
      },
      "outputs": [
        {
          "data": {
            "image/png": "[encoded data removed]",
            "text/plain": [
              "<Figure size 640x480 with 1 Axes>"
            ]
          },
          "metadata": {},
          "output_type": "display_data"
        }
      ],
      "source": [
        "# score histogram\n",
        "y.hist(bins=61)\n",
        "plt.title('Histogram of scaled target scores')\n",
        "plt.xlabel('target score')\n",
        "plt.ylabel('count')\n",
        "plt.savefig('./images/image6.png', dpi=300)\n",
        "plt.show()"
      ]
    },
    {
      "cell_type": "code",
      "execution_count": 25,
      "metadata": {
        "colab": {
          "base_uri": "https://localhost:8080/"
        },
        "id": "T9k_bNCGcYwV",
        "outputId": "6bfd80dc-9772-4ef3-a7e9-4af58f60ddf0"
      },
      "outputs": [
        {
          "name": "stdout",
          "output_type": "stream",
          "text": [
            "X_train size: (10380, 331)\n",
            "X_test size: (2596, 331)\n",
            "y_train size: (10380, 1)\n",
            "y_test size: (2596, 1)\n",
            "scores_train size: (10380, 4)\n",
            "scores_test size: (2596, 4)\n"
          ]
        }
      ],
      "source": [
        "# Data to be split\n",
        "X_train, X_test, y_train, y_test, scores_train, scores_test = \\\n",
        "        train_test_split(\n",
        "                X,\n",
        "                y,\n",
        "                scores,\n",
        "                test_size=0.2,\n",
        "                random_state=26\n",
        "                )\n",
        "\n",
        "print('X_train size: {}'.format(X_train.shape))\n",
        "print('X_test size: {}'.format(X_test.shape))\n",
        "print('y_train size: {}'.format(y_train.shape))\n",
        "print('y_test size: {}'.format(y_test.shape))\n",
        "print('scores_train size: {}'.format(scores_train.shape))\n",
        "print('scores_test size: {}'.format(scores_test.shape))"
      ]
    },
    {
      "cell_type": "code",
      "execution_count": 26,
      "metadata": {
        "id": "vy7iuSokdSG0"
      },
      "outputs": [],
      "source": [
        "output_dim = y.shape[1]\n",
        "input_dim = X.shape[1]\n",
        "dropout = 0.2\n",
        "\n",
        "def build_model(architecture='mlp'):\n",
        "    model = Sequential()\n",
        "    if architecture == 'mlp':\n",
        "        # Densely Connected Neural Network (Multi-Layer Perceptron)\n",
        "        model.add(Dense(14, activation='relu', kernel_initializer='he_normal', input_dim=input_dim))\n",
        "\n",
        "        model.add(Dropout(dropout))\n",
        "                                               # Regression:\n",
        "        model.add(Dense(output_dim))\n",
        "\n",
        "    return model"
      ]
    },
    {
      "cell_type": "code",
      "execution_count": 27,
      "metadata": {
        "colab": {
          "base_uri": "https://localhost:8080/"
        },
        "id": "UGCT7op7eCu1",
        "outputId": "d1f57743-064e-4e33-ba04-aea9518a51c0"
      },
      "outputs": [
        {
          "name": "stdout",
          "output_type": "stream",
          "text": [
            "WARNING:tensorflow:From c:\\Users\\USER\\AppData\\Local\\Programs\\Python\\Python39\\lib\\site-packages\\keras\\src\\backend.py:873: The name tf.get_default_graph is deprecated. Please use tf.compat.v1.get_default_graph instead.\n",
            "\n",
            "Model: \"sequential\"\n",
            "_________________________________________________________________\n",
            " Layer (type)                Output Shape              Param #   \n",
            "=================================================================\n",
            " dense (Dense)               (None, 14)                4648      \n",
            "                                                                 \n",
            " dropout (Dropout)           (None, 14)                0         \n",
            "                                                                 \n",
            " dense_1 (Dense)             (None, 1)                 15        \n",
            "                                                                 \n",
            "=================================================================\n",
            "Total params: 4663 (18.21 KB)\n",
            "Trainable params: 4663 (18.21 KB)\n",
            "Non-trainable params: 0 (0.00 Byte)\n",
            "_________________________________________________________________\n"
          ]
        }
      ],
      "source": [
        "# Using MLP in kernel for speed\n",
        "model = build_model('mlp')\n",
        "model.summary()"
      ]
    },
    {
      "cell_type": "code",
      "execution_count": 28,
      "metadata": {
        "id": "jB5Eby5Vg76J"
      },
      "outputs": [],
      "source": [
        "# Compile the model with a specified learning rate\n",
        "adam = Adam(learning_rate=0.0001)\n",
        "model.compile(optimizer=adam, loss='mean_squared_error', metrics=['mean_squared_error', 'mean_absolute_error'])"
      ]
    },
    {
      "cell_type": "code",
      "execution_count": 31,
      "metadata": {
        "colab": {
          "base_uri": "https://localhost:8080/"
        },
        "id": "sMQouPBegl9e",
        "outputId": "da2304f8-42c7-45a2-e544-272e496f5e69"
      },
      "outputs": [
        {
          "name": "stdout",
          "output_type": "stream",
          "text": [
            "Model: \"sequential\"\n",
            "_________________________________________________________________\n",
            " Layer (type)                Output Shape              Param #   \n",
            "=================================================================\n",
            " dense (Dense)               (None, 14)                4648      \n",
            "                                                                 \n",
            " dropout (Dropout)           (None, 14)                0         \n",
            "                                                                 \n",
            " dense_1 (Dense)             (None, 1)                 15        \n",
            "                                                                 \n",
            "=================================================================\n",
            "Total params: 4663 (18.21 KB)\n",
            "Trainable params: 4663 (18.21 KB)\n",
            "Non-trainable params: 0 (0.00 Byte)\n",
            "_________________________________________________________________\n"
          ]
        }
      ],
      "source": [
        "model.summary()\n"
      ]
    },
    {
      "cell_type": "code",
      "execution_count": 32,
      "metadata": {
        "id": "P9JiBEome-Ib"
      },
      "outputs": [
        {
          "name": "stdout",
          "output_type": "stream",
          "text": [
            "WARNING:tensorflow:From c:\\Users\\USER\\AppData\\Local\\Programs\\Python\\Python39\\lib\\site-packages\\keras\\src\\utils\\tf_utils.py:492: The name tf.ragged.RaggedTensorValue is deprecated. Please use tf.compat.v1.ragged.RaggedTensorValue instead.\n",
            "\n",
            "WARNING:tensorflow:From c:\\Users\\USER\\AppData\\Local\\Programs\\Python\\Python39\\lib\\site-packages\\keras\\src\\engine\\base_layer_utils.py:384: The name tf.executing_eagerly_outside_functions is deprecated. Please use tf.compat.v1.executing_eagerly_outside_functions instead.\n",
            "\n"
          ]
        }
      ],
      "source": [
        "# Define number of epochs\n",
        "epochs = 150\n",
        "\n",
        "# Fit the model to the training data\n",
        "estimator = model.fit(X_train, y_train, epochs=epochs, batch_size=32, verbose=0)"
      ]
    },
    {
      "cell_type": "code",
      "execution_count": 33,
      "metadata": {
        "colab": {
          "base_uri": "https://localhost:8080/"
        },
        "id": "g5BXa2NKgBrW",
        "outputId": "81a5f2cf-a3ce-4308-b989-0fc47d3f8bf8"
      },
      "outputs": [
        {
          "name": "stdout",
          "output_type": "stream",
          "text": [
            "82/82 [==============================] - 0s 2ms/step\n"
          ]
        }
      ],
      "source": [
        "y_pred = pd.DataFrame(model.predict(X_test).reshape(-1))"
      ]
    },
    {
      "cell_type": "code",
      "execution_count": 34,
      "metadata": {
        "colab": {
          "base_uri": "https://localhost:8080/",
          "height": 206
        },
        "id": "58j2GdzSh5Km",
        "outputId": "586b3b0b-1f06-4c54-83fa-ad48d970e53f"
      },
      "outputs": [
        {
          "data": {
            "text/html": [
              "<div>\n",
              "<style scoped>\n",
              "    .dataframe tbody tr th:only-of-type {\n",
              "        vertical-align: middle;\n",
              "    }\n",
              "\n",
              "    .dataframe tbody tr th {\n",
              "        vertical-align: top;\n",
              "    }\n",
              "\n",
              "    .dataframe thead th {\n",
              "        text-align: right;\n",
              "    }\n",
              "</style>\n",
              "<table border=\"1\" class=\"dataframe\">\n",
              "  <thead>\n",
              "    <tr style=\"text-align: right;\">\n",
              "      <th></th>\n",
              "      <th>index</th>\n",
              "      <th>topic</th>\n",
              "      <th>target_score</th>\n",
              "      <th>scaled</th>\n",
              "      <th>y_pred</th>\n",
              "    </tr>\n",
              "  </thead>\n",
              "  <tbody>\n",
              "    <tr>\n",
              "      <th>0</th>\n",
              "      <td>1751</td>\n",
              "      <td>1</td>\n",
              "      <td>10</td>\n",
              "      <td>8.0</td>\n",
              "      <td>7.404946</td>\n",
              "    </tr>\n",
              "    <tr>\n",
              "      <th>1</th>\n",
              "      <td>1075</td>\n",
              "      <td>1</td>\n",
              "      <td>12</td>\n",
              "      <td>10.0</td>\n",
              "      <td>8.706494</td>\n",
              "    </tr>\n",
              "    <tr>\n",
              "      <th>2</th>\n",
              "      <td>383</td>\n",
              "      <td>1</td>\n",
              "      <td>10</td>\n",
              "      <td>8.0</td>\n",
              "      <td>7.701580</td>\n",
              "    </tr>\n",
              "    <tr>\n",
              "      <th>3</th>\n",
              "      <td>706</td>\n",
              "      <td>1</td>\n",
              "      <td>10</td>\n",
              "      <td>8.0</td>\n",
              "      <td>7.681396</td>\n",
              "    </tr>\n",
              "    <tr>\n",
              "      <th>4</th>\n",
              "      <td>831</td>\n",
              "      <td>1</td>\n",
              "      <td>10</td>\n",
              "      <td>8.0</td>\n",
              "      <td>7.813874</td>\n",
              "    </tr>\n",
              "  </tbody>\n",
              "</table>\n",
              "</div>"
            ],
            "text/plain": [
              "   index  topic  target_score  scaled    y_pred\n",
              "0   1751      1            10     8.0  7.404946\n",
              "1   1075      1            12    10.0  8.706494\n",
              "2    383      1            10     8.0  7.701580\n",
              "3    706      1            10     8.0  7.681396\n",
              "4    831      1            10     8.0  7.813874"
            ]
          },
          "execution_count": 34,
          "metadata": {},
          "output_type": "execute_result"
        }
      ],
      "source": [
        "\"\"\"Reverse scaling back to original target score scales\"\"\"\n",
        "\n",
        "# Merge results\n",
        "results = scores_test.reset_index(drop=True)\\\n",
        "                    .join(y_pred)\\\n",
        "                    .rename(columns={0:'y_pred'})\\\n",
        "                    .sort_values(by='topic')\\\n",
        "                    .reset_index(drop=True)\n",
        "results.head()"
      ]
    },
    {
      "cell_type": "code",
      "execution_count": 35,
      "metadata": {
        "colab": {
          "base_uri": "https://localhost:8080/",
          "height": 851
        },
        "id": "vJFkFkMHiEGS",
        "outputId": "072a090e-57b5-46b6-a32b-db44fb649b59"
      },
      "outputs": [
        {
          "data": {
            "text/html": [
              "<div>\n",
              "<style scoped>\n",
              "    .dataframe tbody tr th:only-of-type {\n",
              "        vertical-align: middle;\n",
              "    }\n",
              "\n",
              "    .dataframe tbody tr th {\n",
              "        vertical-align: top;\n",
              "    }\n",
              "\n",
              "    .dataframe thead th {\n",
              "        text-align: right;\n",
              "    }\n",
              "</style>\n",
              "<table border=\"1\" class=\"dataframe\">\n",
              "  <thead>\n",
              "    <tr style=\"text-align: right;\">\n",
              "      <th></th>\n",
              "      <th>index</th>\n",
              "      <th>topic</th>\n",
              "      <th>target_score</th>\n",
              "      <th>scaled</th>\n",
              "      <th>y_pred</th>\n",
              "      <th>pred</th>\n",
              "      <th>y_true</th>\n",
              "    </tr>\n",
              "  </thead>\n",
              "  <tbody>\n",
              "    <tr>\n",
              "      <th>0</th>\n",
              "      <td>1751</td>\n",
              "      <td>1</td>\n",
              "      <td>10</td>\n",
              "      <td>8.0</td>\n",
              "      <td>7.404946</td>\n",
              "      <td>10</td>\n",
              "      <td>10</td>\n",
              "    </tr>\n",
              "    <tr>\n",
              "      <th>1</th>\n",
              "      <td>1075</td>\n",
              "      <td>1</td>\n",
              "      <td>12</td>\n",
              "      <td>10.0</td>\n",
              "      <td>8.706494</td>\n",
              "      <td>11</td>\n",
              "      <td>12</td>\n",
              "    </tr>\n",
              "    <tr>\n",
              "      <th>2</th>\n",
              "      <td>383</td>\n",
              "      <td>1</td>\n",
              "      <td>10</td>\n",
              "      <td>8.0</td>\n",
              "      <td>7.701580</td>\n",
              "      <td>10</td>\n",
              "      <td>10</td>\n",
              "    </tr>\n",
              "    <tr>\n",
              "      <th>3</th>\n",
              "      <td>706</td>\n",
              "      <td>1</td>\n",
              "      <td>10</td>\n",
              "      <td>8.0</td>\n",
              "      <td>7.681396</td>\n",
              "      <td>10</td>\n",
              "      <td>10</td>\n",
              "    </tr>\n",
              "    <tr>\n",
              "      <th>4</th>\n",
              "      <td>831</td>\n",
              "      <td>1</td>\n",
              "      <td>10</td>\n",
              "      <td>8.0</td>\n",
              "      <td>7.813874</td>\n",
              "      <td>10</td>\n",
              "      <td>10</td>\n",
              "    </tr>\n",
              "  </tbody>\n",
              "</table>\n",
              "</div>"
            ],
            "text/plain": [
              "   index  topic  target_score  scaled    y_pred  pred  y_true\n",
              "0   1751      1            10     8.0  7.404946    10      10\n",
              "1   1075      1            12    10.0  8.706494    11      12\n",
              "2    383      1            10     8.0  7.701580    10      10\n",
              "3    706      1            10     8.0  7.681396    10      10\n",
              "4    831      1            10     8.0  7.813874    10      10"
            ]
          },
          "execution_count": 35,
          "metadata": {},
          "output_type": "execute_result"
        }
      ],
      "source": [
        "import pandas as pd\n",
        "import numpy as np\n",
        "from sklearn.preprocessing import MinMaxScaler\n",
        "\n",
        "score_df = results.groupby('topic')['target_score'].agg(['min', 'max'])\n",
        "score_ranges = list(zip(score_df['min'], score_df['max']))\n",
        "\n",
        "y_p_list = []\n",
        "y_t_list = []\n",
        "\n",
        "for topic in range(1, 9):\n",
        "    scaler = MinMaxScaler(score_ranges[topic-1])\n",
        "    \n",
        "    scaled_pred = results[results.topic == topic]['y_pred'].to_frame()\n",
        "    y_pred_shrunk = scaler.fit_transform(scaled_pred).round(0).astype('int')\n",
        "    \n",
        "    scaled_true = results[results.topic == topic]['scaled'].to_frame()\n",
        "    y_true_shrunk = scaler.fit_transform(scaled_true).round(0).astype('int')\n",
        "    \n",
        "    y_p_list.extend(np.squeeze(np.asarray(y_pred_shrunk)))\n",
        "    y_t_list.extend(np.squeeze(np.asarray(y_true_shrunk)))\n",
        "\n",
        "# Convert lists to Pandas Series\n",
        "y_p_df = pd.Series(y_p_list)\n",
        "y_t_df = pd.Series(y_t_list)\n",
        "\n",
        "# Append to results df\n",
        "results['pred'] = y_p_df\n",
        "results['y_true'] = y_t_df\n",
        "results.head()"
      ]
    },
    {
      "cell_type": "code",
      "execution_count": 36,
      "metadata": {
        "colab": {
          "base_uri": "https://localhost:8080/"
        },
        "id": "3yZMrToQi-rB",
        "outputId": "47cfe639-0212-4528-8f83-a068d0ddc581"
      },
      "outputs": [
        {
          "name": "stdout",
          "output_type": "stream",
          "text": [
            "Combined essay kappa score: 0.9760\n"
          ]
        }
      ],
      "source": [
        "k = cohen_kappa_score(results.pred, results.target_score, weights='quadratic')\n",
        "print('Combined essay kappa score: {:.4f}'.format(k))"
      ]
    },
    {
      "cell_type": "code",
      "execution_count": 37,
      "metadata": {
        "id": "vLLSD7JLlw7Z"
      },
      "outputs": [
        {
          "name": "stderr",
          "output_type": "stream",
          "text": [
            "c:\\Users\\USER\\AppData\\Local\\Programs\\Python\\Python39\\lib\\site-packages\\keras\\src\\engine\\training.py:3103: UserWarning: You are saving your model as an HDF5 file via `model.save()`. This file format is considered legacy. We recommend using instead the native Keras format, e.g. `model.save('my_model.keras')`.\n",
            "  saving_api.save_model(\n"
          ]
        }
      ],
      "source": [
        "# Save the trained model\n",
        "model.save('./SavedModels/essay_score_model.h5')"
      ]
    }
  ],
  "metadata": {
    "accelerator": "GPU",
    "colab": {
      "gpuType": "T4",
      "provenance": []
    },
    "kernelspec": {
      "display_name": "Python 3",
      "name": "python3"
    },
    "language_info": {
      "codemirror_mode": {
        "name": "ipython",
        "version": 3
      },
      "file_extension": ".py",
      "mimetype": "text/x-python",
      "name": "python",
      "nbconvert_exporter": "python",
      "pygments_lexer": "ipython3",
      "version": "3.9.2"
    }
  },
  "nbformat": 4,
  "nbformat_minor": 0
}
